{
  "cells": [
    {
      "cell_type": "code",
      "execution_count": 1,
      "metadata": {
        "colab": {
          "base_uri": "https://localhost:8080/"
        },
        "id": "HLEsJ7mSRGkB",
        "outputId": "a1f8d2c6-9b8e-4580-8025-de29bb5052dc"
      },
      "outputs": [],
      "source": [
        "#@title Import libraries\n",
        "\n",
        "import numpy as np\n",
        "import pandas as pd\n",
        "import matplotlib.pyplot as plt\n",
        "from sklearn.model_selection import train_test_split, GridSearchCV\n",
        "from sklearn.tree import DecisionTreeClassifier\n",
        "from sklearn.metrics import confusion_matrix, ConfusionMatrixDisplay\n",
        "from sklearn.ensemble import RandomForestClassifier"
      ]
    },
    {
      "cell_type": "code",
      "execution_count": 2,
      "metadata": {
        "id": "-PVOw1h-SDui"
      },
      "outputs": [],
      "source": [
        "#@title Import data\n",
        "rice = pd.read_excel('../data/rice.xlsx')\n",
        "X = rice.drop(\"Class\", axis=1)\n",
        "y = rice[\"Class\"].copy()\n",
        "X_train, X_test, y_train, y_test = train_test_split(X, y, test_size=0.2, random_state=42)"
      ]
    },
    {
      "cell_type": "markdown",
      "metadata": {
        "id": "fz2hW5dc6e1M"
      },
      "source": [
        "# Decision Tree for rice classification\n"
      ]
    },
    {
      "cell_type": "code",
      "execution_count": 3,
      "metadata": {
        "colab": {
          "base_uri": "https://localhost:8080/"
        },
        "collapsed": true,
        "id": "zc3Hq3G16qiQ",
        "outputId": "9acb41aa-66b8-4e19-f04a-487e634be063"
      },
      "outputs": [
        {
          "name": "stdout",
          "output_type": "stream",
          "text": [
            "Best parameters:  {'max_depth': 4, 'min_samples_leaf': 3, 'min_samples_split': 2}\n"
          ]
        },
        {
          "name": "stderr",
          "output_type": "stream",
          "text": [
            "C:\\Users\\Long\\AppData\\Local\\Packages\\PythonSoftwareFoundation.Python.3.11_qbz5n2kfra8p0\\LocalCache\\local-packages\\Python311\\site-packages\\sklearn\\model_selection\\_validation.py:528: FitFailedWarning: \n",
            "760 fits failed out of a total of 1120.\n",
            "The score on these train-test partitions for these parameters will be set to nan.\n",
            "If these failures are not expected, you can try to debug them by setting error_score='raise'.\n",
            "\n",
            "Below are more details about the failures:\n",
            "--------------------------------------------------------------------------------\n",
            "160 fits failed with the following error:\n",
            "Traceback (most recent call last):\n",
            "  File \"C:\\Users\\Long\\AppData\\Local\\Packages\\PythonSoftwareFoundation.Python.3.11_qbz5n2kfra8p0\\LocalCache\\local-packages\\Python311\\site-packages\\sklearn\\model_selection\\_validation.py\", line 866, in _fit_and_score\n",
            "    estimator.fit(X_train, y_train, **fit_params)\n",
            "  File \"C:\\Users\\Long\\AppData\\Local\\Packages\\PythonSoftwareFoundation.Python.3.11_qbz5n2kfra8p0\\LocalCache\\local-packages\\Python311\\site-packages\\sklearn\\base.py\", line 1382, in wrapper\n",
            "    estimator._validate_params()\n",
            "  File \"C:\\Users\\Long\\AppData\\Local\\Packages\\PythonSoftwareFoundation.Python.3.11_qbz5n2kfra8p0\\LocalCache\\local-packages\\Python311\\site-packages\\sklearn\\base.py\", line 436, in _validate_params\n",
            "    validate_parameter_constraints(\n",
            "  File \"C:\\Users\\Long\\AppData\\Local\\Packages\\PythonSoftwareFoundation.Python.3.11_qbz5n2kfra8p0\\LocalCache\\local-packages\\Python311\\site-packages\\sklearn\\utils\\_param_validation.py\", line 98, in validate_parameter_constraints\n",
            "    raise InvalidParameterError(\n",
            "sklearn.utils._param_validation.InvalidParameterError: The 'max_depth' parameter of DecisionTreeClassifier must be an int in the range [1, inf) or None. Got 'None' instead.\n",
            "\n",
            "--------------------------------------------------------------------------------\n",
            "240 fits failed with the following error:\n",
            "Traceback (most recent call last):\n",
            "  File \"C:\\Users\\Long\\AppData\\Local\\Packages\\PythonSoftwareFoundation.Python.3.11_qbz5n2kfra8p0\\LocalCache\\local-packages\\Python311\\site-packages\\sklearn\\model_selection\\_validation.py\", line 866, in _fit_and_score\n",
            "    estimator.fit(X_train, y_train, **fit_params)\n",
            "  File \"C:\\Users\\Long\\AppData\\Local\\Packages\\PythonSoftwareFoundation.Python.3.11_qbz5n2kfra8p0\\LocalCache\\local-packages\\Python311\\site-packages\\sklearn\\base.py\", line 1382, in wrapper\n",
            "    estimator._validate_params()\n",
            "  File \"C:\\Users\\Long\\AppData\\Local\\Packages\\PythonSoftwareFoundation.Python.3.11_qbz5n2kfra8p0\\LocalCache\\local-packages\\Python311\\site-packages\\sklearn\\base.py\", line 436, in _validate_params\n",
            "    validate_parameter_constraints(\n",
            "  File \"C:\\Users\\Long\\AppData\\Local\\Packages\\PythonSoftwareFoundation.Python.3.11_qbz5n2kfra8p0\\LocalCache\\local-packages\\Python311\\site-packages\\sklearn\\utils\\_param_validation.py\", line 98, in validate_parameter_constraints\n",
            "    raise InvalidParameterError(\n",
            "sklearn.utils._param_validation.InvalidParameterError: The 'min_samples_leaf' parameter of DecisionTreeClassifier must be an int in the range [1, inf) or a float in the range (0.0, 1.0). Got 'None' instead.\n",
            "\n",
            "--------------------------------------------------------------------------------\n",
            "180 fits failed with the following error:\n",
            "Traceback (most recent call last):\n",
            "  File \"C:\\Users\\Long\\AppData\\Local\\Packages\\PythonSoftwareFoundation.Python.3.11_qbz5n2kfra8p0\\LocalCache\\local-packages\\Python311\\site-packages\\sklearn\\model_selection\\_validation.py\", line 866, in _fit_and_score\n",
            "    estimator.fit(X_train, y_train, **fit_params)\n",
            "  File \"C:\\Users\\Long\\AppData\\Local\\Packages\\PythonSoftwareFoundation.Python.3.11_qbz5n2kfra8p0\\LocalCache\\local-packages\\Python311\\site-packages\\sklearn\\base.py\", line 1382, in wrapper\n",
            "    estimator._validate_params()\n",
            "  File \"C:\\Users\\Long\\AppData\\Local\\Packages\\PythonSoftwareFoundation.Python.3.11_qbz5n2kfra8p0\\LocalCache\\local-packages\\Python311\\site-packages\\sklearn\\base.py\", line 436, in _validate_params\n",
            "    validate_parameter_constraints(\n",
            "  File \"C:\\Users\\Long\\AppData\\Local\\Packages\\PythonSoftwareFoundation.Python.3.11_qbz5n2kfra8p0\\LocalCache\\local-packages\\Python311\\site-packages\\sklearn\\utils\\_param_validation.py\", line 98, in validate_parameter_constraints\n",
            "    raise InvalidParameterError(\n",
            "sklearn.utils._param_validation.InvalidParameterError: The 'min_samples_split' parameter of DecisionTreeClassifier must be an int in the range [2, inf) or a float in the range (0.0, 1.0]. Got 'None' instead.\n",
            "\n",
            "--------------------------------------------------------------------------------\n",
            "180 fits failed with the following error:\n",
            "Traceback (most recent call last):\n",
            "  File \"C:\\Users\\Long\\AppData\\Local\\Packages\\PythonSoftwareFoundation.Python.3.11_qbz5n2kfra8p0\\LocalCache\\local-packages\\Python311\\site-packages\\sklearn\\model_selection\\_validation.py\", line 866, in _fit_and_score\n",
            "    estimator.fit(X_train, y_train, **fit_params)\n",
            "  File \"C:\\Users\\Long\\AppData\\Local\\Packages\\PythonSoftwareFoundation.Python.3.11_qbz5n2kfra8p0\\LocalCache\\local-packages\\Python311\\site-packages\\sklearn\\base.py\", line 1382, in wrapper\n",
            "    estimator._validate_params()\n",
            "  File \"C:\\Users\\Long\\AppData\\Local\\Packages\\PythonSoftwareFoundation.Python.3.11_qbz5n2kfra8p0\\LocalCache\\local-packages\\Python311\\site-packages\\sklearn\\base.py\", line 436, in _validate_params\n",
            "    validate_parameter_constraints(\n",
            "  File \"C:\\Users\\Long\\AppData\\Local\\Packages\\PythonSoftwareFoundation.Python.3.11_qbz5n2kfra8p0\\LocalCache\\local-packages\\Python311\\site-packages\\sklearn\\utils\\_param_validation.py\", line 98, in validate_parameter_constraints\n",
            "    raise InvalidParameterError(\n",
            "sklearn.utils._param_validation.InvalidParameterError: The 'min_samples_split' parameter of DecisionTreeClassifier must be an int in the range [2, inf) or a float in the range (0.0, 1.0]. Got 1 instead.\n",
            "\n",
            "  warnings.warn(some_fits_failed_message, FitFailedWarning)\n",
            "C:\\Users\\Long\\AppData\\Local\\Packages\\PythonSoftwareFoundation.Python.3.11_qbz5n2kfra8p0\\LocalCache\\local-packages\\Python311\\site-packages\\sklearn\\model_selection\\_search.py:1108: UserWarning: One or more of the test scores are non-finite: [       nan        nan        nan        nan        nan        nan\n",
            "        nan        nan        nan        nan        nan        nan\n",
            "        nan        nan        nan        nan        nan        nan\n",
            "        nan        nan        nan        nan 0.92158865 0.92158865\n",
            "        nan        nan 0.92158865 0.92158865        nan        nan\n",
            " 0.92158865 0.92158865        nan        nan        nan        nan\n",
            "        nan        nan 0.92158865 0.92158865        nan        nan\n",
            " 0.92158865 0.92158865        nan        nan 0.92158865 0.92158865\n",
            "        nan        nan        nan        nan        nan        nan\n",
            " 0.91830242 0.91830242        nan        nan 0.91830242 0.91830242\n",
            "        nan        nan 0.91863136 0.91863136        nan        nan\n",
            "        nan        nan        nan        nan 0.92913179 0.92913179\n",
            "        nan        nan 0.92847606 0.92913179        nan        nan\n",
            " 0.92913287 0.928805          nan        nan        nan        nan\n",
            "        nan        nan 0.92453516 0.92453516        nan        nan\n",
            " 0.92486303 0.92453516        nan        nan 0.92486303 0.92486303\n",
            "        nan        nan        nan        nan        nan        nan\n",
            " 0.92191329 0.92158434        nan        nan 0.92158218 0.92158326\n",
            "        nan        nan 0.92125431 0.9209286 ]\n",
            "  warnings.warn(\n"
          ]
        }
      ],
      "source": [
        "#@title Find the best parameters for Decision Tree\n",
        "\n",
        "rice_clf = DecisionTreeClassifier()\n",
        "\n",
        "param_grid = {\n",
        "    'max_depth': ['None', 1, 2, 3, 4, 5, 6],\n",
        "    'min_samples_split': ['None', 1, 2, 3],\n",
        "    'min_samples_leaf': ['None', 1, 2, 3],\n",
        "}\n",
        "\n",
        "grid_search_dt = GridSearchCV(rice_clf, param_grid, cv=10)\n",
        "grid_search_dt.fit(X_train, y_train)\n",
        "\n",
        "print(\"Best parameters: \", grid_search_dt.best_params_)"
      ]
    },
    {
      "cell_type": "code",
      "execution_count": 4,
      "metadata": {
        "colab": {
          "base_uri": "https://localhost:8080/",
          "height": 628
        },
        "id": "YdIutDYjq5NK",
        "outputId": "4a6300b5-243c-47ab-a090-6996b9b63053"
      },
      "outputs": [
        {
          "data": {
            "image/png": "[encoded data removed]",
            "text/plain": [
              "<Figure size 640x480 with 2 Axes>"
            ]
          },
          "metadata": {},
          "output_type": "display_data"
        },
        {
          "name": "stdout",
          "output_type": "stream",
          "text": [
            "Accuracy: 92.2572\n",
            "Sensitivity: 92.9612\n",
            "Specificity: 91.4286\n",
            "Precision: 92.7361\n",
            "F1-Score: 92.8485\n",
            "NPV: 91.6905\n",
            "FPR: 8.5714\n",
            "FDR: 7.2639\n",
            "FNR: 7.0388\n"
          ]
        }
      ],
      "source": [
        "#@title Decision Tree\n",
        "\n",
        "rice_clf = DecisionTreeClassifier(\n",
        "    max_depth = grid_search_dt.best_params_['max_depth'],\n",
        "    min_samples_leaf = grid_search_dt.best_params_['min_samples_leaf'],\n",
        "    min_samples_split = grid_search_dt.best_params_['min_samples_split']\n",
        "    )\n",
        "\n",
        "rice_clf.fit(X_train, y_train)\n",
        "y_pred = rice_clf.predict(X_test)\n",
        "\n",
        "cm = confusion_matrix(y_test, y_pred)\n",
        "disp = ConfusionMatrixDisplay(confusion_matrix=cm, display_labels=['Cammeo', 'Osmancik'])\n",
        "disp.plot(cmap=plt.cm.Blues)\n",
        "plt.title(\"Confusion Matrix\")\n",
        "plt.show()\n",
        "\n",
        "tn, fp, fn, tp = confusion_matrix(y_test, y_pred).ravel()\n",
        "# Compute all metrics\n",
        "accuracy  = (tp + tn) / (tp + tn + fp + fn)\n",
        "sensitivity = tp / (tp + fn)\n",
        "specificity = tn / (tn + fp)\n",
        "precision = tp / (tp + fp)\n",
        "f1_score = 2 * (precision * sensitivity) / (precision + sensitivity)\n",
        "npv = tn / (tn + fn)\n",
        "fpr = fp / (fp + tn)\n",
        "fdr = fp / (tp + fp)\n",
        "fnr = fn / (fn + tp)\n",
        "\n",
        "print(f\"Accuracy: {accuracy * 100:.4f}\")\n",
        "print(f\"Sensitivity: {sensitivity*100:.4f}\")\n",
        "print(f\"Specificity: {specificity*100:.4f}\")\n",
        "print(f\"Precision: {precision*100:.4f}\")\n",
        "print(f\"F1-Score: {f1_score*100:.4f}\")\n",
        "print(f\"NPV: {npv*100:.4f}\")\n",
        "print(f\"FPR: {fpr*100:.4f}\")\n",
        "print(f\"FDR: {fdr*100:.4f}\")\n",
        "print(f\"FNR: {fnr*100:.4f}\")"
      ]
    },
    {
      "cell_type": "markdown",
      "metadata": {
        "id": "IeZ2OBV9D5iM"
      },
      "source": [
        "# Random Forest for rice classification\n"
      ]
    },
    {
      "cell_type": "code",
      "execution_count": 5,
      "metadata": {
        "colab": {
          "base_uri": "https://localhost:8080/"
        },
        "id": "sMy1PBwnEFS4",
        "outputId": "3c991156-9249-453f-ae83-bf6d5c767eb3"
      },
      "outputs": [
        {
          "name": "stdout",
          "output_type": "stream",
          "text": [
            "Fitting 10 folds for each of 21 candidates, totalling 210 fits\n",
            "Best parameters:  {'n_estimators': 26}\n"
          ]
        }
      ],
      "source": [
        "#@title Find the best parameters for Random Forest\n",
        "\n",
        "rice_clf = RandomForestClassifier()\n",
        "\n",
        "param_grid = {\n",
        "  'n_estimators': [10, 11, 12, 13, 14, 15, 16, 17, 18, 19, 20, 21, 22, 23, 24, 25, 26, 27, 28, 29, 30],\n",
        "}\n",
        "grid_search_rf = GridSearchCV(rice_clf, param_grid, cv=10, verbose = 1)\n",
        "grid_search_rf.fit(X_train, y_train)\n",
        "\n",
        "print(\"Best parameters: \", grid_search_rf.best_params_)"
      ]
    },
    {
      "cell_type": "code",
      "execution_count": null,
      "metadata": {
        "colab": {
          "base_uri": "https://localhost:8080/"
        },
        "id": "l4GPmcRwFgjO",
        "outputId": "0dbf74e5-72c3-4110-dca8-27fb1b03d46b"
      },
      "outputs": [
        {
          "data": {
            "image/png": "[encoded data removed]",
            "text/plain": [
              "<Figure size 640x480 with 2 Axes>"
            ]
          },
          "metadata": {},
          "output_type": "display_data"
        },
        {
          "name": "stdout",
          "output_type": "stream",
          "text": [
            "Accuracy: 91.9948\n",
            "Sensitivity: 92.9612\n",
            "Specificity: 90.8571\n",
            "Precision: 92.2892\n",
            "F1-Score: 92.6239\n",
            "NPV: 91.6427\n",
            "FPR: 9.1429\n",
            "FDR: 7.7108\n",
            "FNR: 7.0388\n"
          ]
        }
      ],
      "source": [
        "#@title Random Forest\n",
        "\n",
        "rice_clf = RandomForestClassifier(\n",
        "    n_estimators = grid_search_rf.best_params_['n_estimators']\n",
        "    )\n",
        "\n",
        "rice_clf.fit(X_train, y_train)\n",
        "y_pred = rice_clf.predict(X_test)\n",
        "\n",
        "cm = confusion_matrix(y_test, y_pred)\n",
        "disp = ConfusionMatrixDisplay(confusion_matrix=cm, display_labels=['Cammeo', 'Osmancik'])\n",
        "disp.plot(cmap=plt.cm.Blues)\n",
        "plt.title(\"Confusion Matrix\")\n",
        "plt.show()\n",
        "\n",
        "tn, fp, fn, tp = confusion_matrix(y_test, y_pred).ravel()\n",
        "# Compute all metrics\n",
        "accuracy  = (tp + tn) / (tp + tn + fp + fn)\n",
        "sensitivity = tp / (tp + fn)\n",
        "specificity = tn / (tn + fp)\n",
        "precision = tp / (tp + fp)\n",
        "f1_score = 2 * (precision * sensitivity) / (precision + sensitivity)\n",
        "npv = tn / (tn + fn)\n",
        "fpr = fp / (fp + tn)\n",
        "fdr = fp / (tp + fp)\n",
        "fnr = fn / (fn + tp)\n",
        "\n",
        "print(f\"Accuracy: {accuracy * 100:.4f}\")\n",
        "print(f\"Sensitivity: {sensitivity*100:.4f}\")\n",
        "print(f\"Specificity: {specificity*100:.4f}\")\n",
        "print(f\"Precision: {precision*100:.4f}\")\n",
        "print(f\"F1-Score: {f1_score*100:.4f}\")\n",
        "print(f\"NPV: {npv*100:.4f}\")\n",
        "print(f\"FPR: {fpr*100:.4f}\")\n",
        "print(f\"FDR: {fdr*100:.4f}\")\n",
        "print(f\"FNR: {fnr*100:.4f}\")"
      ]
    }
  ],
  "metadata": {
    "colab": {
      "provenance": []
    },
    "kernelspec": {
      "display_name": "Python 3",
      "name": "python3"
    },
    "language_info": {
      "codemirror_mode": {
        "name": "ipython",
        "version": 3
      },
      "file_extension": ".py",
      "mimetype": "text/x-python",
      "name": "python",
      "nbconvert_exporter": "python",
      "pygments_lexer": "ipython3",
      "version": "3.11.9"
    }
  },
  "nbformat": 4,
  "nbformat_minor": 0
}
