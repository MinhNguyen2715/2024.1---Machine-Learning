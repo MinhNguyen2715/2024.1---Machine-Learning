{
  "cells": [
    {
      "cell_type": "markdown",
      "metadata": {
        "id": "iAck6uNxX0Zu"
      },
      "source": [
        "# Import library"
      ]
    },
    {
      "cell_type": "code",
      "execution_count": null,
      "metadata": {
        "colab": {
          "base_uri": "https://localhost:8080/"
        },
        "id": "BrsPzR1bq3n8",
        "outputId": "1355ab51-2425-4b20-8f3d-cf21cf5943a8"
      },
      "outputs": [],
      "source": [
        "import numpy as np\n",
        "import pandas as pd\n",
        "import matplotlib.pyplot as plt\n",
        "\n",
        "from sklearn.preprocessing import StandardScaler\n",
        "from sklearn.datasets import make_classification\n",
        "from sklearn.model_selection import train_test_split, cross_validate\n",
        "from sklearn.svm import SVC\n",
        "from sklearn.metrics import classification_report, confusion_matrix, ConfusionMatrixDisplay\n",
        "from sklearn.preprocessing import LabelEncoder\n",
        "from sklearn.model_selection import StratifiedKFold, GridSearchCV, cross_val_score"
      ]
    },
    {
      "cell_type": "markdown",
      "metadata": {
        "id": "23DINdZlX9Qq"
      },
      "source": [
        "# Import data\n"
      ]
    },
    {
      "cell_type": "code",
      "execution_count": null,
      "metadata": {
        "colab": {
          "base_uri": "https://localhost:8080/",
          "height": 223
        },
        "id": "ZFBUA-hJrFuD",
        "outputId": "146e2559-fc4d-4ffd-cd07-b61fc120c2a2"
      },
      "outputs": [],
      "source": [
        "rice = pd.read_excel('rice.xlsx')\n",
        "\n",
        "le = LabelEncoder()\n",
        "rice['Class'] = le.fit_transform(rice['Class'])  # Cammeo -> 0 (or 1)\n",
        "print(le.classes_)\n",
        "\n",
        "X = rice.drop(\"Class\", axis=1)\n",
        "y = rice[\"Class\"]\n",
        "rice.head(5)"
      ]
    },
    {
      "cell_type": "markdown",
      "metadata": {
        "id": "KXBfyRZDancg"
      },
      "source": [
        "# Choosing best parameters for SVM"
      ]
    },
    {
      "cell_type": "code",
      "execution_count": null,
      "metadata": {
        "colab": {
          "base_uri": "https://localhost:8080/"
        },
        "id": "RiA7yqOAanBx",
        "outputId": "da21c514-8f70-49c7-d0ae-11c32e1631b6"
      },
      "outputs": [],
      "source": [
        "scaler = StandardScaler()\n",
        "X_scaled = scaler.fit_transform(X)\n",
        "\n",
        "X_train, X_test, y_train, y_test = train_test_split(\n",
        "    X_scaled, y, test_size=0.2, random_state=13, stratify=y)\n",
        "\n",
        "skf = StratifiedKFold(n_splits=10, shuffle=True, random_state=23)\n",
        "\n",
        "# Try with logarithmic scale first (0.01, 0.1, 1, 10, 100)\n",
        "# Then localize around 10: (8,9,10,11,12)\n",
        "param_grid = {\n",
        "    'C': [11.5,11.7,11.9,12.1,12.2,12.3,12.5],\n",
        "    'kernel': ['linear', 'rbf','sigmoid','poly'],\n",
        "    'gamma': ['scale', 'auto']\n",
        "}\n",
        "\n",
        "grid = GridSearchCV(SVC(), param_grid, scoring='accuracy', cv=skf)\n",
        "grid.fit(X_train, y_train)\n",
        "\n",
        "print(\"Best parameters:\", grid.best_params_)\n",
        "print(\"Best CV accuracy:\", grid.best_score_)\n",
        "best_params = grid.best_params_\n",
        "\n",
        "final_model = SVC(\n",
        "    C=grid.best_params_[\"C\"],\n",
        "    kernel=grid.best_params_[\"kernel\"],\n",
        "    gamma=grid.best_params_[\"gamma\"]\n",
        ")"
      ]
    },
    {
      "cell_type": "markdown",
      "metadata": {
        "id": "UgojWiz0aLBa"
      },
      "source": [
        "# Training SVM"
      ]
    },
    {
      "cell_type": "code",
      "execution_count": null,
      "metadata": {
        "colab": {
          "base_uri": "https://localhost:8080/",
          "height": 80
        },
        "id": "JWjqmytMssYt",
        "outputId": "2af34201-020f-44eb-9e49-73bc3bb5f438"
      },
      "outputs": [],
      "source": [
        "final_model.fit(X_train, y_train)"
      ]
    },
    {
      "cell_type": "markdown",
      "metadata": {
        "id": "RKImuq1uy1U1"
      },
      "source": [
        "# Testing and Showing result"
      ]
    },
    {
      "cell_type": "code",
      "execution_count": null,
      "metadata": {
        "colab": {
          "base_uri": "https://localhost:8080/",
          "height": 628
        },
        "id": "ORnUvxIRyvN1",
        "outputId": "5a72847e-6155-41bc-fa7f-3e2a8bf30ec6"
      },
      "outputs": [],
      "source": [
        "y_pred = final_model.predict(X_test)\n",
        "\n",
        "cm = confusion_matrix(y_test, y_pred)\n",
        "disp = ConfusionMatrixDisplay(confusion_matrix=cm, display_labels=le.classes_)\n",
        "disp.plot(cmap=plt.cm.Blues)\n",
        "plt.title(\"Confusion Matrix\")\n",
        "plt.show()\n",
        "\n",
        "tn, fp, fn, tp = confusion_matrix(y_test, y_pred).ravel()\n",
        "# Compute all metrics\n",
        "accuracy  = (tp + tn) / (tp + tn + fp + fn)\n",
        "sensitivity = tp / (tp + fn)\n",
        "specificity = tn / (tn + fp)\n",
        "precision = tp / (tp + fp)\n",
        "f1_score = 2 * (precision * sensitivity) / (precision + sensitivity)\n",
        "npv = tn / (tn + fn)\n",
        "fpr = fp / (fp + tn)\n",
        "fdr = fp / (tp + fp)\n",
        "fnr = fn / (fn + tp)\n",
        "\n",
        "# Display\n",
        "print(f\"Accuracy: {accuracy:.4f}\")\n",
        "print(f\"Sensitivity (Recall): {sensitivity:.4f}\")\n",
        "print(f\"Specificity: {specificity:.4f}\")\n",
        "print(f\"Precision: {precision:.4f}\")\n",
        "print(f\"F1-Score: {f1_score:.4f}\")\n",
        "print(f\"NPV: {npv:.4f}\")\n",
        "print(f\"FPR: {fpr:.4f}\")\n",
        "print(f\"FDR: {fdr:.4f}\")\n",
        "print(f\"FNR: {fnr:.4f}\")\n"
      ]
    }
  ],
  "metadata": {
    "colab": {
      "provenance": []
    },
    "kernelspec": {
      "display_name": "Python 3",
      "name": "python3"
    },
    "language_info": {
      "codemirror_mode": {
        "name": "ipython",
        "version": 3
      },
      "file_extension": ".py",
      "mimetype": "text/x-python",
      "name": "python",
      "nbconvert_exporter": "python",
      "pygments_lexer": "ipython3",
      "version": "3.11.9"
    }
  },
  "nbformat": 4,
  "nbformat_minor": 0
}
