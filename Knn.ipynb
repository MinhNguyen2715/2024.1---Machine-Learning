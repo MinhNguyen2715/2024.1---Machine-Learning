{
 "cells": [
  {
   "cell_type": "markdown",
   "metadata": {
    "id": "aj1Z6byYobXc"
   },
   "source": [
    "#  import module"
   ]
  },
  {
   "cell_type": "code",
   "execution_count": 2,
   "metadata": {
    "executionInfo": {
     "elapsed": 2539,
     "status": "ok",
     "timestamp": 1747357728326,
     "user": {
      "displayName": "Anh Đặng Trung",
      "userId": "04829466907669493423"
     },
     "user_tz": -420
    },
    "id": "vbKvIp27odta"
   },
   "outputs": [],
   "source": [
    "import pandas as pd\n",
    "import numpy as np\n",
    "import seaborn as sns\n",
    "import matplotlib.pyplot as plt\n",
    "import time\n",
    "\n",
    "from sklearn.model_selection import train_test_split, GridSearchCV, RandomizedSearchCV, StratifiedKFold\n",
    "from sklearn.preprocessing import LabelEncoder, StandardScaler\n",
    "from sklearn.neighbors import KNeighborsClassifier\n",
    "from sklearn.metrics import classification_report, accuracy_score, confusion_matrix"
   ]
  },
  {
   "cell_type": "markdown",
   "metadata": {
    "id": "BFzwgUnSoSdy"
   },
   "source": [
    "#  Import data"
   ]
  },
  {
   "cell_type": "code",
   "execution_count": 3,
   "metadata": {
    "colab": {
     "base_uri": "https://localhost:8080/"
    },
    "executionInfo": {
     "elapsed": 1037,
     "status": "ok",
     "timestamp": 1747357730751,
     "user": {
      "displayName": "Anh Đặng Trung",
      "userId": "04829466907669493423"
     },
     "user_tz": -420
    },
    "id": "z2FNjemUoR3a",
    "outputId": "4de90234-056b-40e2-d31d-bcbba6f74612"
   },
   "outputs": [
    {
     "name": "stdout",
     "output_type": "stream",
     "text": [
      "    Area   Perimeter  Major_Axis_Length  Minor_Axis_Length  Eccentricity  \\\n",
      "0  15231  525.578979         229.749878          85.093788      0.928882   \n",
      "1  14656  494.311005         206.020065          91.730972      0.895405   \n",
      "2  14634  501.122009         214.106781          87.768288      0.912118   \n",
      "3  13176  458.342987         193.337387          87.448395      0.891861   \n",
      "4  14688  507.166992         211.743378          89.312454      0.906691   \n",
      "\n",
      "   Convex_Area    Extent   Class  \n",
      "0        15617  0.572896  Cammeo  \n",
      "1        15072  0.615436  Cammeo  \n",
      "2        14954  0.693259  Cammeo  \n",
      "3        13368  0.640669  Cammeo  \n",
      "4        15262  0.646024  Cammeo  \n"
     ]
    }
   ],
   "source": [
    "df = pd.read_excel(\"rice.xlsx\")\n",
    "#df = pd.read_excel(\"Path to rice.xlsx \")\n",
    "X = df.drop(columns=['Class'])\n",
    "y = df['Class']\n",
    "print(df.head(5))"
   ]
  },
  {
   "cell_type": "markdown",
   "metadata": {
    "id": "paKjnIt4ozq9"
   },
   "source": [
    "#  Choose best parameter"
   ]
  },
  {
   "cell_type": "code",
   "execution_count": 4,
   "metadata": {
    "colab": {
     "base_uri": "https://localhost:8080/"
    },
    "executionInfo": {
     "elapsed": 51018,
     "status": "ok",
     "timestamp": 1747357868898,
     "user": {
      "displayName": "Anh Đặng Trung",
      "userId": "04829466907669493423"
     },
     "user_tz": -420
    },
    "id": "E_Fn--RjpFDf",
    "outputId": "12eea9bb-d6bf-4999-a0b6-38c94f8ae1af"
   },
   "outputs": [
    {
     "name": "stderr",
     "output_type": "stream",
     "text": [
      "/usr/local/lib/python3.11/dist-packages/sklearn/model_selection/_search.py:317: UserWarning: The total space of parameters 288 is smaller than n_iter=10000. Running 288 iterations. For exhaustive searches, use GridSearchCV.\n",
      "  warnings.warn(\n"
     ]
    },
    {
     "name": "stdout",
     "output_type": "stream",
     "text": [
      "Fitting 10 folds for each of 288 candidates, totalling 2880 fits\n",
      "✅ Best Parameters: {'weights': 'distance', 'p': 1, 'n_neighbors': 16, 'metric': 'minkowski', 'leaf_size': 20, 'algorithm': 'auto'}\n",
      "✅ Best Cross-Validation Accuracy: 0.9251855047454702\n"
     ]
    }
   ],
   "source": [
    "le = LabelEncoder()\n",
    "y_encoded = le.fit_transform(y)\n",
    "scaler = StandardScaler()\n",
    "X_scaled = scaler.fit_transform(X)\n",
    "X_train, X_test, y_train, y_test = train_test_split(X_scaled, y_encoded, test_size=0.2, random_state=20)\n",
    "skf = StratifiedKFold(n_splits=10, shuffle=True, random_state=23)\n",
    "\n",
    "parameters = {\n",
    "    'n_neighbors': [13, 14, 15, 16, 17, 18],\n",
    "    'weights': ['uniform', 'distance'],\n",
    "    'p': [1, 2],\n",
    "    'algorithm': ['auto', 'ball_tree', 'kd_tree', 'brute'],\n",
    "    'leaf_size': [20, 30, 40],\n",
    "    'metric': ['minkowski']\n",
    "}\n",
    "# GridSearchCV\n",
    "# grid = GridSearchCV(KNeighborsClassifier(n_jobs=-1), parameters, cv=skf, scoring='accuracy', verbose=1)\n",
    "# grid.fit(X_train, y_train)\n",
    "# grid.fit(X_train, y_train)\n",
    "# best_model = grid.best_estimator_\n",
    "# print(\"✅ Best Parameters:\", grid.best_params_)\n",
    "# print(\"✅ Best Cross-Validation Accuracy:\", grid.best_score_)\n",
    "\n",
    "\n",
    "\n",
    "# RandomizedSearchCV\n",
    "knn= KNeighborsClassifier()\n",
    "random_search = RandomizedSearchCV(knn, param_distributions=parameters, n_iter=10000,\n",
    "                                   cv=skf, scoring='accuracy', verbose=1, random_state=10)\n",
    "random_search.fit(X_train, y_train)\n",
    "best_model = random_search.best_estimator_\n",
    "print(\"✅ Best Parameters:\", random_search.best_params_)\n",
    "print(\"✅ Best Cross-Validation Accuracy:\", random_search.best_score_)"
   ]
  },
  {
   "cell_type": "markdown",
   "metadata": {
    "id": "KVS_f7F7pXpA"
   },
   "source": [
    "#  Predict data and show results"
   ]
  },
  {
   "cell_type": "code",
   "execution_count": 5,
   "metadata": {
    "colab": {
     "base_uri": "https://localhost:8080/"
    },
    "executionInfo": {
     "elapsed": 166,
     "status": "ok",
     "timestamp": 1747357937806,
     "user": {
      "displayName": "Anh Đặng Trung",
      "userId": "04829466907669493423"
     },
     "user_tz": -420
    },
    "id": "Mei2E3lMphd_",
    "outputId": "d2da26b9-2375-4acc-aa20-97c6a7e5d748"
   },
   "outputs": [
    {
     "name": "stdout",
     "output_type": "stream",
     "text": [
      "\n",
      "🎯 Test Accuracy: 0.9291338582677166\n",
      "\n",
      "📋 Classification Report:\n",
      "               precision    recall  f1-score   support\n",
      "\n",
      "      Cammeo       0.92      0.92      0.92       336\n",
      "    Osmancik       0.94      0.94      0.94       426\n",
      "\n",
      "    accuracy                           0.93       762\n",
      "   macro avg       0.93      0.93      0.93       762\n",
      "weighted avg       0.93      0.93      0.93       762\n",
      "\n"
     ]
    }
   ],
   "source": [
    "best_knn = random_search.best_estimator_\n",
    "y_pred = best_knn.predict(X_test)\n",
    "\n",
    "print(\"\\n🎯 Test Accuracy:\", accuracy_score(y_test, y_pred))\n",
    "print(\"\\n📋 Classification Report:\\n\", classification_report(y_test, y_pred, target_names=le.classes_))\n",
    "\n"
   ]
  },
  {
   "cell_type": "markdown",
   "metadata": {
    "id": "Szk8wrYhpl9a"
   },
   "source": [
    "#  Confusion matrix"
   ]
  },
  {
   "cell_type": "code",
   "execution_count": 11,
   "metadata": {
    "colab": {
     "base_uri": "https://localhost:8080/",
     "height": 607
    },
    "executionInfo": {
     "elapsed": 244,
     "status": "ok",
     "timestamp": 1747358061510,
     "user": {
      "displayName": "Anh Đặng Trung",
      "userId": "04829466907669493423"
     },
     "user_tz": -420
    },
    "id": "f1_OwExapqP4",
    "outputId": "79e0cb93-cd2e-4ba7-fa8a-eade4bbcf306"
   },
   "outputs": [
    {
     "data": {
      "image/png": "[encoded data removed]",
      "text/plain": [
       "<Figure size 800x600 with 2 Axes>"
      ]
     },
     "metadata": {},
     "output_type": "display_data"
    }
   ],
   "source": [
    "cm = confusion_matrix(y_test, y_pred)\n",
    "plt.figure(figsize=(8, 6))\n",
    "sns.heatmap(cm, annot=True, fmt='d', cmap='Blues',\n",
    "            xticklabels=le.classes_, yticklabels=le.classes_)\n",
    "plt.xlabel('Predicted Label')\n",
    "plt.ylabel('True Label')\n",
    "plt.title('Confusion Matrix')\n",
    "plt.tight_layout()\n",
    "plt.show()\n",
    "\n"
   ]
  },
  {
   "cell_type": "markdown",
   "metadata": {
    "id": "CFhY0avgpuKq"
   },
   "source": [
    "#  Calculate metric accuracy"
   ]
  },
  {
   "cell_type": "code",
   "execution_count": 12,
   "metadata": {
    "colab": {
     "base_uri": "https://localhost:8080/"
    },
    "executionInfo": {
     "elapsed": 17,
     "status": "ok",
     "timestamp": 1747358085564,
     "user": {
      "displayName": "Anh Đặng Trung",
      "userId": "04829466907669493423"
     },
     "user_tz": -420
    },
    "id": "qU0PbLMip0A3",
    "outputId": "80ce04d6-5bc0-4a5b-c021-e75861fed941"
   },
   "outputs": [
    {
     "name": "stdout",
     "output_type": "stream",
     "text": [
      "\n",
      " Accuracy     : 0.9291\n",
      " Sensitivity  : 0.9366\n",
      " Specificity  : 0.9196\n",
      " Precision    : 0.9366\n",
      " F1 Score     : 0.9366\n",
      " NPV          : 0.9196\n",
      " FPR          : 0.0804\n",
      " FDR          : 0.0634\n",
      " FNR          : 0.0634\n"
     ]
    }
   ],
   "source": [
    "tn, fp, fn, tp = confusion_matrix(y_test, y_pred).ravel()\n",
    "\n",
    "accuracy = (tp + tn) / (tp + tn + fp + fn)\n",
    "sensitivity = tp / (tp + fn)\n",
    "specificity = tn / (tn + fp)\n",
    "precision = tp / (tp + fp)\n",
    "f1 = 2 * (precision * sensitivity) / (precision + sensitivity)\n",
    "npv = tn / (tn + fn)\n",
    "fpr = fp / (fp + tn)\n",
    "fdr = fp / (tp + fp)\n",
    "fnr = fn / (fn + tp)\n",
    "print(f\"\\n Accuracy     : {accuracy:.4f}\")\n",
    "print(f\" Sensitivity  : {sensitivity:.4f}\")\n",
    "print(f\" Specificity  : {specificity:.4f}\")\n",
    "print(f\" Precision    : {precision:.4f}\")\n",
    "print(f\" F1 Score     : {f1:.4f}\")\n",
    "print(f\" NPV          : {npv:.4f}\")\n",
    "print(f\" FPR          : {fpr:.4f}\")\n",
    "print(f\" FDR          : {fdr:.4f}\")\n",
    "print(f\" FNR          : {fnr:.4f}\")\n"
   ]
  },
  {
   "cell_type": "markdown",
   "metadata": {
    "id": "uijeDjDkqIwq"
   },
   "source": [
    "#  Table of accuarcy with different values of k"
   ]
  },
  {
   "cell_type": "code",
   "execution_count": 13,
   "metadata": {
    "colab": {
     "base_uri": "https://localhost:8080/",
     "height": 407
    },
    "executionInfo": {
     "elapsed": 1488,
     "status": "ok",
     "timestamp": 1747358132412,
     "user": {
      "displayName": "Anh Đặng Trung",
      "userId": "04829466907669493423"
     },
     "user_tz": -420
    },
    "id": "7pKsI27VqP4z",
    "outputId": "2f4205f3-24f4-49ac-8b88-decaa0c12f94"
   },
   "outputs": [
    {
     "data": {
      "image/png": "[encoded data removed]",
      "text/plain": [
       "<Figure size 800x400 with 1 Axes>"
      ]
     },
     "metadata": {},
     "output_type": "display_data"
    }
   ],
   "source": [
    "accuracies = []\n",
    "k_range = range(1,20)\n",
    "for k in k_range:\n",
    "    model = KNeighborsClassifier(n_neighbors=k)\n",
    "    model.fit(X_train, y_train)\n",
    "    acc = model.score(X_test, y_test)\n",
    "    accuracies.append(acc)\n",
    "\n",
    "plt.figure(figsize=(8, 4))\n",
    "plt.plot(k_range, accuracies, marker='o')\n",
    "plt.xlabel(\"Number of Neighbors (k)\")\n",
    "plt.ylabel(\"Accuracy on Test Set\")\n",
    "plt.title(\"KNN Accuracy for Different k Values\")\n",
    "plt.grid(True)\n",
    "plt.tight_layout()\n",
    "plt.show()"
   ]
  }
 ],
 "metadata": {
  "colab": {
   "authorship_tag": "ABX9TyMAq7VJOaLxibGhw87J0MhW",
   "mount_file_id": "1Cjng9fuEBJbeYZwB5-jZMe_i9F7_zBvF",
   "provenance": []
  },
  "kernelspec": {
   "display_name": "Python 3",
   "name": "python3"
  },
  "language_info": {
   "name": "python"
  }
 },
 "nbformat": 4,
 "nbformat_minor": 0
}
